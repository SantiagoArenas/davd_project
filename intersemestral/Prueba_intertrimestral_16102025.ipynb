{
  "cells": [
    {
      "cell_type": "markdown",
      "metadata": {
        "id": "BZHOfP4hO8Vj"
      },
      "source": [
        "# Prueba Intertrimestral\n",
        "\n",
        "**Nombre:**  \n",
        "**Apellidos:**  \n",
        "\n",
        "**Tiempo de la prueba:** 2 horas  \n",
        "**Asignatura:** Desarrollo de Aplicaciones para la Visualización de Datos  \n",
        "**Fecha:** 16 de octubre de 2025  \n",
        "\n",
        "## Instrucciones\n",
        "\n",
        "- Escribe **código limpio y autoexplicativo**.  \n",
        "- Se pueden utilizar **los materiales de clase**.  \n",
        "- Se puede utilizar **internet** para búsqueda de dudas y documentación.  \n",
        "- **No se puede utilizar ningún tipo de LLM** (ChatGPT, Copilot, Gemini, etc.).  \n",
        "- **No se puede utilizar mensajería instantánea**.  \n",
        "- Al finalizar, **sube tu notebook a GitHub** y envía el enlace del fichero en el siguiente formulario:  \n",
        "[https://forms.office.com/e/LFVwu9z6uQ](https://forms.office.com/e/LFVwu9z6uQ)\n",
        "\n",
        "\n",
        "## Dataset “Life Style Data”\n",
        "\n",
        "El dataset contiene información sobre hábitos de vida (alimentación, sueño, ejercicio, consumo de tabaco o alcohol, etc.) y medidas de salud (IMC, presión arterial, etc.) para diferentes individuos.\n",
        "\n",
        "Puedes descargarlo del repositorio de la asignatura y un .txt con la descripción de las variables.\n"
      ]
    },
    {
      "cell_type": "markdown",
      "metadata": {
        "id": "pAyOgtngSm8l"
      },
      "source": [
        "## Inicialización de librerías"
      ]
    },
    {
      "cell_type": "code",
      "execution_count": 26,
      "metadata": {
        "id": "rUSOV34cSmDn"
      },
      "outputs": [],
      "source": [
        "import pandas as pd\n",
        "import matplotlib.pyplot as plt\n",
        "import numpy as np\n",
        "import seaborn as sns\n",
        "\n",
        "from scipy import stats\n",
        "from sklearn.model_selection import train_test_split\n",
        "from sklearn.ensemble import RandomForestRegressor\n",
        "from sklearn.linear_model import LinearRegression\n",
        "from sklearn.metrics import mean_absolute_error, r2_score, root_mean_squared_error, mean_squared_error, classification_report, accuracy_score, confusion_matrix\n",
        "from itertools import combinations\n",
        "from sklearn.linear_model import SGDClassifier, LogisticRegression\n",
        "import plotly.graph_objects as go"
      ]
    },
    {
      "cell_type": "markdown",
      "metadata": {
        "id": "otirxiJrSsEC"
      },
      "source": [
        "# Ejercicio 1 — Programación (2 puntos)\n",
        "\n",
        "a) (0.6 pts) Crea una función imc(weight, height) que devuelva el índice de masa corporal (IMC), redondeado a dos decimales.\n",
        "\n"
      ]
    },
    {
      "cell_type": "code",
      "execution_count": 27,
      "metadata": {
        "id": "3N45WKtkS6-A"
      },
      "outputs": [
        {
          "data": {
            "text/plain": [
              "19.53"
            ]
          },
          "execution_count": 27,
          "metadata": {},
          "output_type": "execute_result"
        }
      ],
      "source": [
        "def imc(weight, height):\n",
        "    return round(weight/(height*height),2)\n",
        "\n",
        "imc(50,1.60)"
      ]
    },
    {
      "cell_type": "markdown",
      "metadata": {
        "id": "BLBDCknMS7TE"
      },
      "source": [
        "b) (0.6 pts) Crea una función saludable(imcValue) que devuelva \"Saludable\" si el IMC está entre 18.5 y 24.9, \"Bajo peso\" si es menor de 18.5, o \"Sobrepeso\" si es mayor de 24.9."
      ]
    },
    {
      "cell_type": "code",
      "execution_count": 28,
      "metadata": {
        "id": "WDhSuYXLS9Fz"
      },
      "outputs": [
        {
          "data": {
            "text/plain": [
              "'Sobrepeso'"
            ]
          },
          "execution_count": 28,
          "metadata": {},
          "output_type": "execute_result"
        }
      ],
      "source": [
        "def saludable(imcValue):\n",
        "    if imcValue<=24.9:\n",
        "        if imcValue>=18.5:\n",
        "            return \"Saludable\"\n",
        "        return \"Bajo peso\"\n",
        "    return \"Sobrepeso\"\n",
        "saludable(35)"
      ]
    },
    {
      "cell_type": "markdown",
      "metadata": {
        "id": "KjQkJdhLS9dO"
      },
      "source": [
        "c) (0.6 pts) Genera un DataFrame llamado imcData que contenga al menos 10 registros con las siguientes columnas:\n",
        "\n",
        "\n",
        "*   peso (en kilogramos)\n",
        "\n",
        "*   altura (en metros)\n",
        "\n",
        "*   imc (calculado usando la función imc(weight, height) creada anteriormente)\n",
        "\n",
        "Puedes generar los datos de peso y altura manualmente, mediante listas, o de forma aleatoria utilizando numpy (np.random.uniform o similar).\n",
        "\n",
        "Añade una cuarta columna llamada categoria, cuyos valores provengan de la función saludable(imcValue).\n",
        "\n",
        "Muestra las primeras filas del DataFrame resultante y comprueba que los tipos de datos son correctos."
      ]
    },
    {
      "cell_type": "code",
      "execution_count": 29,
      "metadata": {
        "id": "sN09MzT_TGWv"
      },
      "outputs": [
        {
          "data": {
            "text/plain": [
              "[[np.float64(63.21413334158893),\n",
              "  np.float64(1.569243241969103),\n",
              "  np.float64(25.67),\n",
              "  'Sobrepeso'],\n",
              " [np.float64(56.84321150891922),\n",
              "  np.float64(1.9098913463826102),\n",
              "  np.float64(15.58),\n",
              "  'Bajo peso'],\n",
              " [np.float64(46.97151852778244),\n",
              "  np.float64(1.774520594986179),\n",
              "  np.float64(14.92),\n",
              "  'Bajo peso'],\n",
              " [np.float64(89.93675493339033),\n",
              "  np.float64(1.976726288077177),\n",
              "  np.float64(23.02),\n",
              "  'Saludable'],\n",
              " [np.float64(65.69709576652102),\n",
              "  np.float64(1.8030008124864625),\n",
              "  np.float64(20.21),\n",
              "  'Saludable'],\n",
              " [np.float64(61.23886172069928),\n",
              "  np.float64(1.5178405051483899),\n",
              "  np.float64(26.58),\n",
              "  'Sobrepeso'],\n",
              " [np.float64(50.525963112019284),\n",
              "  np.float64(1.7110699694218976),\n",
              "  np.float64(17.26),\n",
              "  'Bajo peso'],\n",
              " [np.float64(83.39049427948345),\n",
              "  np.float64(1.6881238361788573),\n",
              "  np.float64(29.26),\n",
              "  'Sobrepeso'],\n",
              " [np.float64(63.88561614326684),\n",
              "  np.float64(1.8484274191375771),\n",
              "  np.float64(18.7),\n",
              "  'Saludable'],\n",
              " [np.float64(55.88534019676592),\n",
              "  np.float64(1.6939870838106823),\n",
              "  np.float64(19.48),\n",
              "  'Saludable']]"
            ]
          },
          "execution_count": 29,
          "metadata": {},
          "output_type": "execute_result"
        }
      ],
      "source": [
        "n = 10\n",
        "peso = np.random.uniform(45,100,n)\n",
        "altura = np.random.uniform(1.50,2.0,n)\n",
        "\n",
        "resultados = []\n",
        "\n",
        "for i in range(0,n):\n",
        "    bmi_n = [peso[i], altura[i], imc(peso[i], altura[i]), saludable(imc(peso[i], altura[i]))]\n",
        "    resultados.append(bmi_n)\n",
        "resultados\n",
        "    "
      ]
    },
    {
      "cell_type": "code",
      "execution_count": 30,
      "metadata": {},
      "outputs": [
        {
          "data": {
            "text/html": [
              "<div>\n",
              "<style scoped>\n",
              "    .dataframe tbody tr th:only-of-type {\n",
              "        vertical-align: middle;\n",
              "    }\n",
              "\n",
              "    .dataframe tbody tr th {\n",
              "        vertical-align: top;\n",
              "    }\n",
              "\n",
              "    .dataframe thead th {\n",
              "        text-align: right;\n",
              "    }\n",
              "</style>\n",
              "<table border=\"1\" class=\"dataframe\">\n",
              "  <thead>\n",
              "    <tr style=\"text-align: right;\">\n",
              "      <th></th>\n",
              "      <th>peso</th>\n",
              "      <th>altura</th>\n",
              "      <th>imc</th>\n",
              "      <th>categoria</th>\n",
              "    </tr>\n",
              "  </thead>\n",
              "  <tbody>\n",
              "    <tr>\n",
              "      <th>0</th>\n",
              "      <td>63.214133</td>\n",
              "      <td>1.569243</td>\n",
              "      <td>25.67</td>\n",
              "      <td>Sobrepeso</td>\n",
              "    </tr>\n",
              "    <tr>\n",
              "      <th>1</th>\n",
              "      <td>56.843212</td>\n",
              "      <td>1.909891</td>\n",
              "      <td>15.58</td>\n",
              "      <td>Bajo peso</td>\n",
              "    </tr>\n",
              "    <tr>\n",
              "      <th>2</th>\n",
              "      <td>46.971519</td>\n",
              "      <td>1.774521</td>\n",
              "      <td>14.92</td>\n",
              "      <td>Bajo peso</td>\n",
              "    </tr>\n",
              "    <tr>\n",
              "      <th>3</th>\n",
              "      <td>89.936755</td>\n",
              "      <td>1.976726</td>\n",
              "      <td>23.02</td>\n",
              "      <td>Saludable</td>\n",
              "    </tr>\n",
              "    <tr>\n",
              "      <th>4</th>\n",
              "      <td>65.697096</td>\n",
              "      <td>1.803001</td>\n",
              "      <td>20.21</td>\n",
              "      <td>Saludable</td>\n",
              "    </tr>\n",
              "    <tr>\n",
              "      <th>5</th>\n",
              "      <td>61.238862</td>\n",
              "      <td>1.517841</td>\n",
              "      <td>26.58</td>\n",
              "      <td>Sobrepeso</td>\n",
              "    </tr>\n",
              "    <tr>\n",
              "      <th>6</th>\n",
              "      <td>50.525963</td>\n",
              "      <td>1.711070</td>\n",
              "      <td>17.26</td>\n",
              "      <td>Bajo peso</td>\n",
              "    </tr>\n",
              "    <tr>\n",
              "      <th>7</th>\n",
              "      <td>83.390494</td>\n",
              "      <td>1.688124</td>\n",
              "      <td>29.26</td>\n",
              "      <td>Sobrepeso</td>\n",
              "    </tr>\n",
              "    <tr>\n",
              "      <th>8</th>\n",
              "      <td>63.885616</td>\n",
              "      <td>1.848427</td>\n",
              "      <td>18.70</td>\n",
              "      <td>Saludable</td>\n",
              "    </tr>\n",
              "    <tr>\n",
              "      <th>9</th>\n",
              "      <td>55.885340</td>\n",
              "      <td>1.693987</td>\n",
              "      <td>19.48</td>\n",
              "      <td>Saludable</td>\n",
              "    </tr>\n",
              "  </tbody>\n",
              "</table>\n",
              "</div>"
            ],
            "text/plain": [
              "        peso    altura    imc  categoria\n",
              "0  63.214133  1.569243  25.67  Sobrepeso\n",
              "1  56.843212  1.909891  15.58  Bajo peso\n",
              "2  46.971519  1.774521  14.92  Bajo peso\n",
              "3  89.936755  1.976726  23.02  Saludable\n",
              "4  65.697096  1.803001  20.21  Saludable\n",
              "5  61.238862  1.517841  26.58  Sobrepeso\n",
              "6  50.525963  1.711070  17.26  Bajo peso\n",
              "7  83.390494  1.688124  29.26  Sobrepeso\n",
              "8  63.885616  1.848427  18.70  Saludable\n",
              "9  55.885340  1.693987  19.48  Saludable"
            ]
          },
          "execution_count": 30,
          "metadata": {},
          "output_type": "execute_result"
        }
      ],
      "source": [
        "df = pd.DataFrame(resultados, columns=['peso', 'altura', 'imc', 'categoria'])\n",
        "df.head(10)"
      ]
    },
    {
      "cell_type": "markdown",
      "metadata": {
        "id": "uqaLQ7v3TGqI"
      },
      "source": [
        "d) (0.2 pts) ¿Cómo podrías integrar ambas funciones dentro de una clase llamada HealthTools que calcule el IMC y clasifique automáticamente a partir de listas de pesos y alturas?"
      ]
    },
    {
      "cell_type": "code",
      "execution_count": 31,
      "metadata": {
        "id": "ac1ReJOvTuS9"
      },
      "outputs": [],
      "source": [
        "class HealthTools:\n",
        "    def __init__(self, lista_peso_altura):\n",
        "        \"\"\"\n",
        "        Inicializa la clase con una lista de lista de [[peso, altura], ]\n",
        "\n",
        "        Parámetros:\n",
        "        - lista_peso_altura: lista de listas de pesos y alturas\n",
        "        \"\"\"\n",
        "        self.lista_peso_altura = lista_peso_altura\n",
        "        \n",
        "    def imc(self, weight, height):\n",
        "        \"\"\"\n",
        "        Calcula el imc de una persona a partir de un peso en kg y una altura en metros\n",
        "\n",
        "        Parámetros:\n",
        "        - weight: peso en kg\n",
        "        - height: altura en metros\n",
        "        \"\"\"\n",
        "        return round(weight/(height*height),2)\n",
        "    \n",
        "    def saludable(self, imcValue):\n",
        "        \"\"\"\n",
        "        Determina si una persona es sana respecto de su IMC\n",
        "\n",
        "        Parámetros:\n",
        "        - IMC: valor de su IMC\n",
        "        \"\"\"\n",
        "        if imcValue<=24.9:\n",
        "            if imcValue>=18.5:\n",
        "                return \"Saludable\"\n",
        "            return \"Bajo peso\"\n",
        "        return \"Sobrepeso\"\n",
        "\n",
        "\n",
        "    pass"
      ]
    },
    {
      "cell_type": "markdown",
      "metadata": {
        "id": "_KNWF6NGTxLR"
      },
      "source": [
        "## Ejercicio 2 — Exploración y visualización (3 puntos)\n",
        "\n",
        "a) (0.75 pts) Carga el dataset desde el fichero CSV y guárdalo en un DataFrame llamado lifeStyleData. Muestra las 5 primeras filas, el número de filas y columnas."
      ]
    },
    {
      "cell_type": "code",
      "execution_count": 32,
      "metadata": {
        "id": "l907uB6pT4qS"
      },
      "outputs": [
        {
          "data": {
            "text/html": [
              "<div>\n",
              "<style scoped>\n",
              "    .dataframe tbody tr th:only-of-type {\n",
              "        vertical-align: middle;\n",
              "    }\n",
              "\n",
              "    .dataframe tbody tr th {\n",
              "        vertical-align: top;\n",
              "    }\n",
              "\n",
              "    .dataframe thead th {\n",
              "        text-align: right;\n",
              "    }\n",
              "</style>\n",
              "<table border=\"1\" class=\"dataframe\">\n",
              "  <thead>\n",
              "    <tr style=\"text-align: right;\">\n",
              "      <th></th>\n",
              "      <th>Age</th>\n",
              "      <th>Gender</th>\n",
              "      <th>Weight (kg)</th>\n",
              "      <th>Height (m)</th>\n",
              "      <th>Max_BPM</th>\n",
              "      <th>Avg_BPM</th>\n",
              "      <th>Resting_BPM</th>\n",
              "      <th>Session_Duration (hours)</th>\n",
              "      <th>Calories_Burned</th>\n",
              "      <th>Workout_Type</th>\n",
              "      <th>...</th>\n",
              "      <th>cal_from_macros</th>\n",
              "      <th>pct_carbs</th>\n",
              "      <th>protein_per_kg</th>\n",
              "      <th>pct_HRR</th>\n",
              "      <th>pct_maxHR</th>\n",
              "      <th>cal_balance</th>\n",
              "      <th>lean_mass_kg</th>\n",
              "      <th>expected_burn</th>\n",
              "      <th>Burns Calories (per 30 min)_bc</th>\n",
              "      <th>Burns_Calories_Bin</th>\n",
              "    </tr>\n",
              "  </thead>\n",
              "  <tbody>\n",
              "    <tr>\n",
              "      <th>0</th>\n",
              "      <td>34.91</td>\n",
              "      <td>Male</td>\n",
              "      <td>65.27</td>\n",
              "      <td>1.62</td>\n",
              "      <td>188.58</td>\n",
              "      <td>157.65</td>\n",
              "      <td>69.05</td>\n",
              "      <td>1.00</td>\n",
              "      <td>1080.90</td>\n",
              "      <td>Strength</td>\n",
              "      <td>...</td>\n",
              "      <td>2139.59</td>\n",
              "      <td>0.500432</td>\n",
              "      <td>1.624789</td>\n",
              "      <td>0.741237</td>\n",
              "      <td>0.835985</td>\n",
              "      <td>725.10</td>\n",
              "      <td>47.777394</td>\n",
              "      <td>685.1600</td>\n",
              "      <td>7.260425e+19</td>\n",
              "      <td>Medium</td>\n",
              "    </tr>\n",
              "    <tr>\n",
              "      <th>1</th>\n",
              "      <td>23.37</td>\n",
              "      <td>Female</td>\n",
              "      <td>56.41</td>\n",
              "      <td>1.55</td>\n",
              "      <td>179.43</td>\n",
              "      <td>131.75</td>\n",
              "      <td>73.18</td>\n",
              "      <td>1.37</td>\n",
              "      <td>1809.91</td>\n",
              "      <td>HIIT</td>\n",
              "      <td>...</td>\n",
              "      <td>1711.65</td>\n",
              "      <td>0.500850</td>\n",
              "      <td>1.514093</td>\n",
              "      <td>0.551247</td>\n",
              "      <td>0.734270</td>\n",
              "      <td>-232.91</td>\n",
              "      <td>40.809803</td>\n",
              "      <td>978.6184</td>\n",
              "      <td>1.020506e+20</td>\n",
              "      <td>High</td>\n",
              "    </tr>\n",
              "    <tr>\n",
              "      <th>2</th>\n",
              "      <td>33.20</td>\n",
              "      <td>Female</td>\n",
              "      <td>58.98</td>\n",
              "      <td>1.67</td>\n",
              "      <td>175.04</td>\n",
              "      <td>123.95</td>\n",
              "      <td>54.96</td>\n",
              "      <td>0.91</td>\n",
              "      <td>802.26</td>\n",
              "      <td>Cardio</td>\n",
              "      <td>...</td>\n",
              "      <td>1965.92</td>\n",
              "      <td>0.500610</td>\n",
              "      <td>1.663445</td>\n",
              "      <td>0.574534</td>\n",
              "      <td>0.708124</td>\n",
              "      <td>805.74</td>\n",
              "      <td>44.635580</td>\n",
              "      <td>654.5266</td>\n",
              "      <td>1.079607e+20</td>\n",
              "      <td>High</td>\n",
              "    </tr>\n",
              "    <tr>\n",
              "      <th>3</th>\n",
              "      <td>38.69</td>\n",
              "      <td>Female</td>\n",
              "      <td>93.78</td>\n",
              "      <td>1.70</td>\n",
              "      <td>191.21</td>\n",
              "      <td>155.10</td>\n",
              "      <td>50.07</td>\n",
              "      <td>1.10</td>\n",
              "      <td>1450.79</td>\n",
              "      <td>HIIT</td>\n",
              "      <td>...</td>\n",
              "      <td>1627.28</td>\n",
              "      <td>0.499533</td>\n",
              "      <td>0.862017</td>\n",
              "      <td>0.744155</td>\n",
              "      <td>0.811150</td>\n",
              "      <td>1206.21</td>\n",
              "      <td>63.007432</td>\n",
              "      <td>773.6300</td>\n",
              "      <td>8.987921e+19</td>\n",
              "      <td>High</td>\n",
              "    </tr>\n",
              "    <tr>\n",
              "      <th>4</th>\n",
              "      <td>45.09</td>\n",
              "      <td>Male</td>\n",
              "      <td>52.42</td>\n",
              "      <td>1.88</td>\n",
              "      <td>193.58</td>\n",
              "      <td>152.88</td>\n",
              "      <td>70.84</td>\n",
              "      <td>1.08</td>\n",
              "      <td>1166.40</td>\n",
              "      <td>Strength</td>\n",
              "      <td>...</td>\n",
              "      <td>2659.23</td>\n",
              "      <td>0.500581</td>\n",
              "      <td>2.538153</td>\n",
              "      <td>0.668405</td>\n",
              "      <td>0.789751</td>\n",
              "      <td>303.60</td>\n",
              "      <td>43.347504</td>\n",
              "      <td>711.4176</td>\n",
              "      <td>5.264685e+19</td>\n",
              "      <td>Low</td>\n",
              "    </tr>\n",
              "  </tbody>\n",
              "</table>\n",
              "<p>5 rows × 54 columns</p>\n",
              "</div>"
            ],
            "text/plain": [
              "     Age  Gender  Weight (kg)  Height (m)  Max_BPM  Avg_BPM  Resting_BPM  \\\n",
              "0  34.91    Male        65.27        1.62   188.58   157.65        69.05   \n",
              "1  23.37  Female        56.41        1.55   179.43   131.75        73.18   \n",
              "2  33.20  Female        58.98        1.67   175.04   123.95        54.96   \n",
              "3  38.69  Female        93.78        1.70   191.21   155.10        50.07   \n",
              "4  45.09    Male        52.42        1.88   193.58   152.88        70.84   \n",
              "\n",
              "   Session_Duration (hours)  Calories_Burned Workout_Type  ...  \\\n",
              "0                      1.00          1080.90     Strength  ...   \n",
              "1                      1.37          1809.91         HIIT  ...   \n",
              "2                      0.91           802.26       Cardio  ...   \n",
              "3                      1.10          1450.79         HIIT  ...   \n",
              "4                      1.08          1166.40     Strength  ...   \n",
              "\n",
              "   cal_from_macros  pct_carbs  protein_per_kg   pct_HRR  pct_maxHR  \\\n",
              "0          2139.59   0.500432        1.624789  0.741237   0.835985   \n",
              "1          1711.65   0.500850        1.514093  0.551247   0.734270   \n",
              "2          1965.92   0.500610        1.663445  0.574534   0.708124   \n",
              "3          1627.28   0.499533        0.862017  0.744155   0.811150   \n",
              "4          2659.23   0.500581        2.538153  0.668405   0.789751   \n",
              "\n",
              "   cal_balance  lean_mass_kg  expected_burn  Burns Calories (per 30 min)_bc  \\\n",
              "0       725.10     47.777394       685.1600                    7.260425e+19   \n",
              "1      -232.91     40.809803       978.6184                    1.020506e+20   \n",
              "2       805.74     44.635580       654.5266                    1.079607e+20   \n",
              "3      1206.21     63.007432       773.6300                    8.987921e+19   \n",
              "4       303.60     43.347504       711.4176                    5.264685e+19   \n",
              "\n",
              "   Burns_Calories_Bin  \n",
              "0              Medium  \n",
              "1                High  \n",
              "2                High  \n",
              "3                High  \n",
              "4                 Low  \n",
              "\n",
              "[5 rows x 54 columns]"
            ]
          },
          "execution_count": 32,
          "metadata": {},
          "output_type": "execute_result"
        }
      ],
      "source": [
        "df = pd.read_csv('Final_data.csv')\n",
        "df.head()"
      ]
    },
    {
      "cell_type": "code",
      "execution_count": 33,
      "metadata": {},
      "outputs": [
        {
          "name": "stdout",
          "output_type": "stream",
          "text": [
            "Número de (filas, columnas) = (20000, 54)\n"
          ]
        }
      ],
      "source": [
        "print('Número de (filas, columnas) =', df.shape)"
      ]
    },
    {
      "cell_type": "markdown",
      "metadata": {
        "id": "JlpQNR-CT49v"
      },
      "source": [
        "b) (0.75 pts) Crea una función describeData(dataFrame) que devuelva para cada columna: tipo de dato, número de valores nulos y porcentaje de nulos."
      ]
    },
    {
      "cell_type": "code",
      "execution_count": 34,
      "metadata": {
        "id": "oXcuxp6mT8iA"
      },
      "outputs": [],
      "source": [
        "def describeData(df):\n",
        "    print('Tipo de datos')\n",
        "    print(df.dtypes)\n",
        "    print('Número de valores nulos')\n",
        "    print(df.isna().sum())\n",
        "    print('Porcentaje de nulos')\n",
        "    print(df.isna.sum()/(df.notna.sum()+df.isna.sum())*100,'%')"
      ]
    },
    {
      "cell_type": "code",
      "execution_count": 35,
      "metadata": {},
      "outputs": [
        {
          "name": "stdout",
          "output_type": "stream",
          "text": [
            "<class 'pandas.core.frame.DataFrame'>\n",
            "RangeIndex: 20000 entries, 0 to 19999\n",
            "Data columns (total 54 columns):\n",
            " #   Column                          Non-Null Count  Dtype  \n",
            "---  ------                          --------------  -----  \n",
            " 0   Age                             20000 non-null  float64\n",
            " 1   Gender                          20000 non-null  object \n",
            " 2   Weight (kg)                     20000 non-null  float64\n",
            " 3   Height (m)                      20000 non-null  float64\n",
            " 4   Max_BPM                         19999 non-null  float64\n",
            " 5   Avg_BPM                         19999 non-null  float64\n",
            " 6   Resting_BPM                     20000 non-null  float64\n",
            " 7   Session_Duration (hours)        20000 non-null  float64\n",
            " 8   Calories_Burned                 20000 non-null  float64\n",
            " 9   Workout_Type                    20000 non-null  object \n",
            " 10  Fat_Percentage                  20000 non-null  float64\n",
            " 11  Water_Intake (liters)           20000 non-null  float64\n",
            " 12  Workout_Frequency (days/week)   20000 non-null  float64\n",
            " 13  Experience_Level                20000 non-null  float64\n",
            " 14  BMI                             20000 non-null  float64\n",
            " 15  Daily meals frequency           20000 non-null  float64\n",
            " 16  Physical exercise               20000 non-null  float64\n",
            " 17  Carbs                           20000 non-null  float64\n",
            " 18  Proteins                        20000 non-null  float64\n",
            " 19  Fats                            20000 non-null  float64\n",
            " 20  Calories                        20000 non-null  float64\n",
            " 21  meal_name                       20000 non-null  object \n",
            " 22  meal_type                       20000 non-null  object \n",
            " 23  diet_type                       20000 non-null  object \n",
            " 24  sugar_g                         20000 non-null  float64\n",
            " 25  sodium_mg                       20000 non-null  float64\n",
            " 26  cholesterol_mg                  19999 non-null  float64\n",
            " 27  serving_size_g                  20000 non-null  float64\n",
            " 28  cooking_method                  20000 non-null  object \n",
            " 29  prep_time_min                   20000 non-null  float64\n",
            " 30  cook_time_min                   20000 non-null  float64\n",
            " 31  rating                          20000 non-null  float64\n",
            " 32  Name of Exercise                20000 non-null  object \n",
            " 33  Sets                            20000 non-null  float64\n",
            " 34  Reps                            20000 non-null  float64\n",
            " 35  Benefit                         20000 non-null  object \n",
            " 36  Burns Calories (per 30 min)     20000 non-null  float64\n",
            " 37  Target Muscle Group             20000 non-null  object \n",
            " 38  Equipment Needed                20000 non-null  object \n",
            " 39  Difficulty Level                20000 non-null  object \n",
            " 40  Body Part                       20000 non-null  object \n",
            " 41  Type of Muscle                  20000 non-null  object \n",
            " 42  Workout                         20000 non-null  object \n",
            " 43  BMI_calc                        20000 non-null  float64\n",
            " 44  cal_from_macros                 20000 non-null  float64\n",
            " 45  pct_carbs                       20000 non-null  float64\n",
            " 46  protein_per_kg                  20000 non-null  float64\n",
            " 47  pct_HRR                         20000 non-null  float64\n",
            " 48  pct_maxHR                       20000 non-null  float64\n",
            " 49  cal_balance                     20000 non-null  float64\n",
            " 50  lean_mass_kg                    20000 non-null  float64\n",
            " 51  expected_burn                   20000 non-null  float64\n",
            " 52  Burns Calories (per 30 min)_bc  20000 non-null  float64\n",
            " 53  Burns_Calories_Bin              20000 non-null  object \n",
            "dtypes: float64(39), object(15)\n",
            "memory usage: 8.2+ MB\n"
          ]
        }
      ],
      "source": [
        "df.info()"
      ]
    },
    {
      "cell_type": "markdown",
      "metadata": {
        "id": "mHjSdK4oT7Yp"
      },
      "source": [
        "c) (0.75 pts) Usa describeData(lifeStyleData) y comenta brevemente (2–3 líneas) qué variables parecen tener más valores faltantes."
      ]
    },
    {
      "cell_type": "code",
      "execution_count": 36,
      "metadata": {
        "id": "bgMOXwrbT-Du"
      },
      "outputs": [],
      "source": [
        "df.dropna(inplace=True)"
      ]
    },
    {
      "cell_type": "markdown",
      "metadata": {
        "id": "qlYW9h-qT-VT"
      },
      "source": [
        "d) (0.75 pts) Realiza un gráfico que muestre las correlaciones entre variables numéricas. ¿Hay alguna correlación fuerte o inesperada?"
      ]
    },
    {
      "cell_type": "code",
      "execution_count": 37,
      "metadata": {},
      "outputs": [],
      "source": [
        "df_corr = df.select_dtypes('number').corr()"
      ]
    },
    {
      "cell_type": "code",
      "execution_count": 38,
      "metadata": {},
      "outputs": [
        {
          "data": {
            "text/plain": [
              "<Axes: >"
            ]
          },
          "execution_count": 38,
          "metadata": {},
          "output_type": "execute_result"
        },
        {
          "data": {
            "image/png": "[encoded data removed]",
            "text/plain": [
              "<Figure size 1500x1000 with 2 Axes>"
            ]
          },
          "metadata": {},
          "output_type": "display_data"
        }
      ],
      "source": [
        "fig, ax = plt.subplots(figsize=(15,10))         # Sample figsize in inches\n",
        "sns.heatmap(df_corr, ax=ax, linewidths=.5)"
      ]
    },
    {
      "cell_type": "code",
      "execution_count": 39,
      "metadata": {},
      "outputs": [
        {
          "data": {
            "text/plain": [
              "protein_per_kg                   -0.634637\n",
              "Height (m)                       -0.166922\n",
              "Resting_BPM                      -0.040765\n",
              "prep_time_min                    -0.039219\n",
              "rating                           -0.030547\n",
              "Reps                             -0.030145\n",
              "cook_time_min                    -0.028106\n",
              "sodium_mg                        -0.020803\n",
              "Age                              -0.017097\n",
              "pct_maxHR                        -0.015224\n",
              "Physical exercise                -0.010703\n",
              "pct_carbs                        -0.006471\n",
              "pct_HRR                          -0.004794\n",
              "Calories_Burned                  -0.004436\n",
              "Session_Duration (hours)         -0.004170\n",
              "Carbs                            -0.003796\n",
              "Fats                             -0.003763\n",
              "cal_from_macros                  -0.003740\n",
              "Proteins                         -0.003563\n",
              "cholesterol_mg                    0.000359\n",
              "Workout_Frequency (days/week)     0.000379\n",
              "sugar_g                           0.000878\n",
              "expected_burn                     0.012775\n",
              "Experience_Level                  0.016333\n",
              "Sets                              0.022311\n",
              "serving_size_g                    0.026333\n",
              "Avg_BPM                           0.028654\n",
              "Daily meals frequency             0.058119\n",
              "Burns Calories (per 30 min)       0.062642\n",
              "Max_BPM                           0.073351\n",
              "Burns Calories (per 30 min)_bc    0.211213\n",
              "Water_Intake (liters)             0.214094\n",
              "cal_balance                       0.632617\n",
              "lean_mass_kg                      0.769278\n",
              "Calories                          0.837504\n",
              "Weight (kg)                       0.855569\n",
              "Fat_Percentage                    0.902399\n",
              "BMI_calc                          1.000000\n",
              "BMI                               1.000000\n",
              "Name: BMI, dtype: float64"
            ]
          },
          "execution_count": 39,
          "metadata": {},
          "output_type": "execute_result"
        }
      ],
      "source": [
        "df_corr['BMI'].sort_values()"
      ]
    },
    {
      "cell_type": "markdown",
      "metadata": {},
      "source": [
        "La correlación más grande con el BMI es el porcentaje de grasa corporal, seguido de las calorias consumidas, y la lean mass, junto con tener un balance calórico equilibrado. Hay otra correlación importante con no tener alta la proteína por KG (consumo diario dividido entre peso), porque el peso es función del IMC en el denominador."
      ]
    },
    {
      "cell_type": "markdown",
      "metadata": {
        "id": "xfw0EHuoUCk_"
      },
      "source": [
        "## Ejercicio 3 — Regresión básica (2 puntos)\n",
        "\n",
        "Queremos predecir una variable de salud continua, por ejemplo bmi.\n",
        "\n",
        "a) (0.25 pts) Define targetVar = \"bmi\" y selecciona 2–3 variables predictoras (por ejemplo sleepHours, activityLevel, calories). Guarda las columnas predictoras en X y la variable objetivo en y."
      ]
    },
    {
      "cell_type": "code",
      "execution_count": 40,
      "metadata": {
        "id": "3lGCNguAUGZe"
      },
      "outputs": [],
      "source": [
        "X = df[['Fat_Percentage', 'Calories', 'lean_mass_kg']]\n",
        "y = df['BMI']\n",
        "#Las 3 que tienen mayor correlación en valor absoluto"
      ]
    },
    {
      "cell_type": "markdown",
      "metadata": {
        "id": "8TpJdONMUGuE"
      },
      "source": [
        "b) (0.25 pts) Divide los datos en entrenamiento (70 %) y prueba (30 %)."
      ]
    },
    {
      "cell_type": "code",
      "execution_count": 41,
      "metadata": {
        "id": "d7q5Q7SNUP-G"
      },
      "outputs": [],
      "source": [
        "X_train, X_test, y_train, y_test = train_test_split(X, y, test_size = 0.3, random_state = 123)"
      ]
    },
    {
      "cell_type": "markdown",
      "metadata": {
        "id": "yGs8HngOUR7K"
      },
      "source": [
        "c) (0.75 pts) Entrena un modelo de regresión lineal (LinearRegression) y calcula el R² y el MSE."
      ]
    },
    {
      "cell_type": "code",
      "execution_count": 42,
      "metadata": {
        "id": "nkH-KfUrUSv0"
      },
      "outputs": [
        {
          "name": "stdout",
          "output_type": "stream",
          "text": [
            "R2 (explica la varianza, cuanto más cerca de 1 mejor): 0.869666124992633\n",
            "MSE (cuánto se desvía de media el modelo de la realidad, en unidades al cuadrado): 5.830767160519388\n"
          ]
        }
      ],
      "source": [
        "modelo = LinearRegression()\n",
        "modelo.fit(X_train, y_train)\n",
        "\n",
        "y_pred = modelo.predict(X_test)\n",
        "r2 = r2_score(y_test, y_pred)\n",
        "mse = mean_squared_error(y_test, y_pred)\n",
        "\n",
        "print('R2 (explica la varianza, cuanto más cerca de 1 mejor):', r2)\n",
        "print('MSE (cuánto se desvía de media el modelo de la realidad, en unidades al cuadrado):', mse)"
      ]
    },
    {
      "cell_type": "markdown",
      "metadata": {
        "id": "fozoFa3vUTah"
      },
      "source": [
        "d) (0.75 pts) Entrena un RandomForestRegressor con los mismos datos y compara resultados. ¿Cuál tiene mejor rendimiento?"
      ]
    },
    {
      "cell_type": "code",
      "execution_count": 43,
      "metadata": {
        "id": "0Me5YnFVUcPQ"
      },
      "outputs": [
        {
          "name": "stdout",
          "output_type": "stream",
          "text": [
            "Variance explanation R^2 = 0.9\n",
            "Mean squared error: 4.59\n"
          ]
        }
      ],
      "source": [
        "regr = RandomForestRegressor(100)\n",
        "regr.fit(X_train, y_train)\n",
        "y_pred = regr.predict(X_test)\n",
        "print(\"Variance explanation R^2 = {}\".format(round(regr.score(X_test, y_test), 2)))\n",
        "print(\"Mean squared error: %.2f\" % mean_squared_error(y_test, y_pred))"
      ]
    },
    {
      "cell_type": "markdown",
      "metadata": {},
      "source": [
        "Funciona mejor el Random Forest ya que tiene mejor R2 y menor MSE que el modelo lineal, aunque es menos interpretable para las personas."
      ]
    },
    {
      "cell_type": "markdown",
      "metadata": {
        "id": "DIupTYHLUd4I"
      },
      "source": [
        "## Ejercicio 4 — Clasificación sencilla (2 puntos)\n",
        "\n",
        "Crea una nueva variable binaria que indique si el IMC está dentro del rango saludable.\n",
        "\n",
        "a) (0.25 pts) Crea una nueva columna bmiHealthy donde el valor sea 1 si bmi está entre 18.5 y 24.9, y 0 en caso contrario."
      ]
    },
    {
      "cell_type": "code",
      "execution_count": 44,
      "metadata": {
        "id": "c95n3xjoUhbk"
      },
      "outputs": [],
      "source": [
        "df['bmiHealthy'] = df['BMI'].apply(lambda x: 1 if (x<=24.9 and x>=18.5) else 0)"
      ]
    },
    {
      "cell_type": "code",
      "execution_count": 45,
      "metadata": {},
      "outputs": [
        {
          "data": {
            "text/plain": [
              "0    1\n",
              "1    1\n",
              "2    1\n",
              "3    0\n",
              "4    0\n",
              "Name: bmiHealthy, dtype: int64"
            ]
          },
          "execution_count": 45,
          "metadata": {},
          "output_type": "execute_result"
        }
      ],
      "source": [
        "df['bmiHealthy'].head()"
      ]
    },
    {
      "cell_type": "markdown",
      "metadata": {
        "id": "F65J5M78Uhus"
      },
      "source": [
        "b) (0.75 pts) Entrena un modelo de regresión logística (LogisticRegression) para predecir bmiHealthy usando algunas variables de estilo de vida (por ejemplo sleepHours, activityLevel, calories)."
      ]
    },
    {
      "cell_type": "code",
      "execution_count": 46,
      "metadata": {},
      "outputs": [
        {
          "data": {
            "text/plain": [
              "BMI_calc                         -0.343030\n",
              "BMI                              -0.343028\n",
              "Fat_Percentage                   -0.326021\n",
              "Weight (kg)                      -0.289893\n",
              "Calories                         -0.276086\n",
              "cal_balance                      -0.273470\n",
              "lean_mass_kg                     -0.228412\n",
              "Burns Calories (per 30 min)_bc   -0.070122\n",
              "Water_Intake (liters)            -0.070017\n",
              "Age                              -0.053444\n",
              "Daily meals frequency            -0.049555\n",
              "Max_BPM                          -0.040817\n",
              "Resting_BPM                      -0.028321\n",
              "serving_size_g                   -0.027946\n",
              "Avg_BPM                          -0.021411\n",
              "Burns Calories (per 30 min)      -0.010929\n",
              "Reps                             -0.010835\n",
              "sugar_g                          -0.005871\n",
              "Proteins                         -0.002455\n",
              "Fats                             -0.002373\n",
              "cal_from_macros                  -0.002291\n",
              "Carbs                            -0.002177\n",
              "Sets                              0.000917\n",
              "pct_maxHR                         0.004661\n",
              "prep_time_min                     0.007055\n",
              "pct_HRR                           0.008542\n",
              "cook_time_min                     0.008639\n",
              "Physical exercise                 0.009004\n",
              "pct_carbs                         0.012841\n",
              "rating                            0.023302\n",
              "sodium_mg                         0.025612\n",
              "Height (m)                        0.040314\n",
              "cholesterol_mg                    0.053301\n",
              "expected_burn                     0.090545\n",
              "Calories_Burned                   0.094653\n",
              "Workout_Frequency (days/week)     0.095672\n",
              "Session_Duration (hours)          0.099699\n",
              "Experience_Level                  0.109782\n",
              "protein_per_kg                    0.130454\n",
              "bmiHealthy                        1.000000\n",
              "Name: bmiHealthy, dtype: float64"
            ]
          },
          "execution_count": 46,
          "metadata": {},
          "output_type": "execute_result"
        }
      ],
      "source": [
        "df_corr = df.select_dtypes('number').corr()\n",
        "df_corr['bmiHealthy'].sort_values()"
      ]
    },
    {
      "cell_type": "code",
      "execution_count": 49,
      "metadata": {
        "id": "L0bX3dbvUjpC"
      },
      "outputs": [
        {
          "name": "stdout",
          "output_type": "stream",
          "text": [
            "Classification report\n",
            "              precision    recall  f1-score   support\n",
            "\n",
            "           0       0.63      0.90      0.74      3692\n",
            "           1       0.51      0.17      0.25      2308\n",
            "\n",
            "    accuracy                           0.62      6000\n",
            "   macro avg       0.57      0.53      0.50      6000\n",
            "weighted avg       0.59      0.62      0.55      6000\n",
            "\n"
          ]
        }
      ],
      "source": [
        "X = df[['Calories', 'cal_balance', 'Workout_Frequency (days/week)']]\n",
        "y = df['bmiHealthy']\n",
        "X_train, X_test, y_train, y_test = train_test_split(X, y, test_size = 0.3, random_state = 123)\n",
        "clf_log = LogisticRegression(max_iter=10000, tol=0.1)\n",
        "clf_log.fit(X_train, y_train)\n",
        "predictions = clf_log.predict(X_test)\n",
        "\n",
        "print(\"Classification report\")\n",
        "print(classification_report(y_test, predictions))"
      ]
    },
    {
      "cell_type": "markdown",
      "metadata": {
        "id": "t2zVo1tRUj9o"
      },
      "source": [
        "c) (0.25 pts) Calcula la exactitud (accuracy) del modelo y muestra la matriz de confusión.\n"
      ]
    },
    {
      "cell_type": "code",
      "execution_count": 50,
      "metadata": {
        "id": "D3q0Hzu_UmT5"
      },
      "outputs": [
        {
          "name": "stdout",
          "output_type": "stream",
          "text": [
            "Accuracy\n",
            "0.6185\n",
            "Confusion matrix\n",
            "[[3324  368]\n",
            " [1921  387]]\n"
          ]
        }
      ],
      "source": [
        "print('Accuracy')\n",
        "print(accuracy_score(y_test, predictions))\n",
        "\n",
        "print(\"Confusion matrix\")\n",
        "print(confusion_matrix(y_test, predictions))"
      ]
    },
    {
      "cell_type": "markdown",
      "metadata": {
        "id": "H8MWudWBUngY"
      },
      "source": [
        "d) (0.75 pts) Explica qué variable parece influir más según el modelo."
      ]
    },
    {
      "cell_type": "code",
      "execution_count": 51,
      "metadata": {
        "id": "qKdONBvPU1Pn"
      },
      "outputs": [
        {
          "data": {
            "application/vnd.plotly.v1+json": {
              "config": {
                "plotlyServerURL": "https://plot.ly"
              },
              "data": [
                {
                  "name": "Coeficientes",
                  "orientation": "h",
                  "type": "bar",
                  "x": {
                    "bdata": "XIxR4CKI9L6Wwq+I7nZIv98tRRMBssw+",
                    "dtype": "f8"
                  },
                  "y": [
                    "Calories",
                    "cal_balance",
                    "Workout_Frequency (days/week)"
                  ]
                }
              ],
              "layout": {
                "template": {
                  "data": {
                    "bar": [
                      {
                        "error_x": {
                          "color": "#2a3f5f"
                        },
                        "error_y": {
                          "color": "#2a3f5f"
                        },
                        "marker": {
                          "line": {
                            "color": "#E5ECF6",
                            "width": 0.5
                          },
                          "pattern": {
                            "fillmode": "overlay",
                            "size": 10,
                            "solidity": 0.2
                          }
                        },
                        "type": "bar"
                      }
                    ],
                    "barpolar": [
                      {
                        "marker": {
                          "line": {
                            "color": "#E5ECF6",
                            "width": 0.5
                          },
                          "pattern": {
                            "fillmode": "overlay",
                            "size": 10,
                            "solidity": 0.2
                          }
                        },
                        "type": "barpolar"
                      }
                    ],
                    "carpet": [
                      {
                        "aaxis": {
                          "endlinecolor": "#2a3f5f",
                          "gridcolor": "white",
                          "linecolor": "white",
                          "minorgridcolor": "white",
                          "startlinecolor": "#2a3f5f"
                        },
                        "baxis": {
                          "endlinecolor": "#2a3f5f",
                          "gridcolor": "white",
                          "linecolor": "white",
                          "minorgridcolor": "white",
                          "startlinecolor": "#2a3f5f"
                        },
                        "type": "carpet"
                      }
                    ],
                    "choropleth": [
                      {
                        "colorbar": {
                          "outlinewidth": 0,
                          "ticks": ""
                        },
                        "type": "choropleth"
                      }
                    ],
                    "contour": [
                      {
                        "colorbar": {
                          "outlinewidth": 0,
                          "ticks": ""
                        },
                        "colorscale": [
                          [
                            0,
                            "#0d0887"
                          ],
                          [
                            0.1111111111111111,
                            "#46039f"
                          ],
                          [
                            0.2222222222222222,
                            "#7201a8"
                          ],
                          [
                            0.3333333333333333,
                            "#9c179e"
                          ],
                          [
                            0.4444444444444444,
                            "#bd3786"
                          ],
                          [
                            0.5555555555555556,
                            "#d8576b"
                          ],
                          [
                            0.6666666666666666,
                            "#ed7953"
                          ],
                          [
                            0.7777777777777778,
                            "#fb9f3a"
                          ],
                          [
                            0.8888888888888888,
                            "#fdca26"
                          ],
                          [
                            1,
                            "#f0f921"
                          ]
                        ],
                        "type": "contour"
                      }
                    ],
                    "contourcarpet": [
                      {
                        "colorbar": {
                          "outlinewidth": 0,
                          "ticks": ""
                        },
                        "type": "contourcarpet"
                      }
                    ],
                    "heatmap": [
                      {
                        "colorbar": {
                          "outlinewidth": 0,
                          "ticks": ""
                        },
                        "colorscale": [
                          [
                            0,
                            "#0d0887"
                          ],
                          [
                            0.1111111111111111,
                            "#46039f"
                          ],
                          [
                            0.2222222222222222,
                            "#7201a8"
                          ],
                          [
                            0.3333333333333333,
                            "#9c179e"
                          ],
                          [
                            0.4444444444444444,
                            "#bd3786"
                          ],
                          [
                            0.5555555555555556,
                            "#d8576b"
                          ],
                          [
                            0.6666666666666666,
                            "#ed7953"
                          ],
                          [
                            0.7777777777777778,
                            "#fb9f3a"
                          ],
                          [
                            0.8888888888888888,
                            "#fdca26"
                          ],
                          [
                            1,
                            "#f0f921"
                          ]
                        ],
                        "type": "heatmap"
                      }
                    ],
                    "histogram": [
                      {
                        "marker": {
                          "pattern": {
                            "fillmode": "overlay",
                            "size": 10,
                            "solidity": 0.2
                          }
                        },
                        "type": "histogram"
                      }
                    ],
                    "histogram2d": [
                      {
                        "colorbar": {
                          "outlinewidth": 0,
                          "ticks": ""
                        },
                        "colorscale": [
                          [
                            0,
                            "#0d0887"
                          ],
                          [
                            0.1111111111111111,
                            "#46039f"
                          ],
                          [
                            0.2222222222222222,
                            "#7201a8"
                          ],
                          [
                            0.3333333333333333,
                            "#9c179e"
                          ],
                          [
                            0.4444444444444444,
                            "#bd3786"
                          ],
                          [
                            0.5555555555555556,
                            "#d8576b"
                          ],
                          [
                            0.6666666666666666,
                            "#ed7953"
                          ],
                          [
                            0.7777777777777778,
                            "#fb9f3a"
                          ],
                          [
                            0.8888888888888888,
                            "#fdca26"
                          ],
                          [
                            1,
                            "#f0f921"
                          ]
                        ],
                        "type": "histogram2d"
                      }
                    ],
                    "histogram2dcontour": [
                      {
                        "colorbar": {
                          "outlinewidth": 0,
                          "ticks": ""
                        },
                        "colorscale": [
                          [
                            0,
                            "#0d0887"
                          ],
                          [
                            0.1111111111111111,
                            "#46039f"
                          ],
                          [
                            0.2222222222222222,
                            "#7201a8"
                          ],
                          [
                            0.3333333333333333,
                            "#9c179e"
                          ],
                          [
                            0.4444444444444444,
                            "#bd3786"
                          ],
                          [
                            0.5555555555555556,
                            "#d8576b"
                          ],
                          [
                            0.6666666666666666,
                            "#ed7953"
                          ],
                          [
                            0.7777777777777778,
                            "#fb9f3a"
                          ],
                          [
                            0.8888888888888888,
                            "#fdca26"
                          ],
                          [
                            1,
                            "#f0f921"
                          ]
                        ],
                        "type": "histogram2dcontour"
                      }
                    ],
                    "mesh3d": [
                      {
                        "colorbar": {
                          "outlinewidth": 0,
                          "ticks": ""
                        },
                        "type": "mesh3d"
                      }
                    ],
                    "parcoords": [
                      {
                        "line": {
                          "colorbar": {
                            "outlinewidth": 0,
                            "ticks": ""
                          }
                        },
                        "type": "parcoords"
                      }
                    ],
                    "pie": [
                      {
                        "automargin": true,
                        "type": "pie"
                      }
                    ],
                    "scatter": [
                      {
                        "fillpattern": {
                          "fillmode": "overlay",
                          "size": 10,
                          "solidity": 0.2
                        },
                        "type": "scatter"
                      }
                    ],
                    "scatter3d": [
                      {
                        "line": {
                          "colorbar": {
                            "outlinewidth": 0,
                            "ticks": ""
                          }
                        },
                        "marker": {
                          "colorbar": {
                            "outlinewidth": 0,
                            "ticks": ""
                          }
                        },
                        "type": "scatter3d"
                      }
                    ],
                    "scattercarpet": [
                      {
                        "marker": {
                          "colorbar": {
                            "outlinewidth": 0,
                            "ticks": ""
                          }
                        },
                        "type": "scattercarpet"
                      }
                    ],
                    "scattergeo": [
                      {
                        "marker": {
                          "colorbar": {
                            "outlinewidth": 0,
                            "ticks": ""
                          }
                        },
                        "type": "scattergeo"
                      }
                    ],
                    "scattergl": [
                      {
                        "marker": {
                          "colorbar": {
                            "outlinewidth": 0,
                            "ticks": ""
                          }
                        },
                        "type": "scattergl"
                      }
                    ],
                    "scattermap": [
                      {
                        "marker": {
                          "colorbar": {
                            "outlinewidth": 0,
                            "ticks": ""
                          }
                        },
                        "type": "scattermap"
                      }
                    ],
                    "scattermapbox": [
                      {
                        "marker": {
                          "colorbar": {
                            "outlinewidth": 0,
                            "ticks": ""
                          }
                        },
                        "type": "scattermapbox"
                      }
                    ],
                    "scatterpolar": [
                      {
                        "marker": {
                          "colorbar": {
                            "outlinewidth": 0,
                            "ticks": ""
                          }
                        },
                        "type": "scatterpolar"
                      }
                    ],
                    "scatterpolargl": [
                      {
                        "marker": {
                          "colorbar": {
                            "outlinewidth": 0,
                            "ticks": ""
                          }
                        },
                        "type": "scatterpolargl"
                      }
                    ],
                    "scatterternary": [
                      {
                        "marker": {
                          "colorbar": {
                            "outlinewidth": 0,
                            "ticks": ""
                          }
                        },
                        "type": "scatterternary"
                      }
                    ],
                    "surface": [
                      {
                        "colorbar": {
                          "outlinewidth": 0,
                          "ticks": ""
                        },
                        "colorscale": [
                          [
                            0,
                            "#0d0887"
                          ],
                          [
                            0.1111111111111111,
                            "#46039f"
                          ],
                          [
                            0.2222222222222222,
                            "#7201a8"
                          ],
                          [
                            0.3333333333333333,
                            "#9c179e"
                          ],
                          [
                            0.4444444444444444,
                            "#bd3786"
                          ],
                          [
                            0.5555555555555556,
                            "#d8576b"
                          ],
                          [
                            0.6666666666666666,
                            "#ed7953"
                          ],
                          [
                            0.7777777777777778,
                            "#fb9f3a"
                          ],
                          [
                            0.8888888888888888,
                            "#fdca26"
                          ],
                          [
                            1,
                            "#f0f921"
                          ]
                        ],
                        "type": "surface"
                      }
                    ],
                    "table": [
                      {
                        "cells": {
                          "fill": {
                            "color": "#EBF0F8"
                          },
                          "line": {
                            "color": "white"
                          }
                        },
                        "header": {
                          "fill": {
                            "color": "#C8D4E3"
                          },
                          "line": {
                            "color": "white"
                          }
                        },
                        "type": "table"
                      }
                    ]
                  },
                  "layout": {
                    "annotationdefaults": {
                      "arrowcolor": "#2a3f5f",
                      "arrowhead": 0,
                      "arrowwidth": 1
                    },
                    "autotypenumbers": "strict",
                    "coloraxis": {
                      "colorbar": {
                        "outlinewidth": 0,
                        "ticks": ""
                      }
                    },
                    "colorscale": {
                      "diverging": [
                        [
                          0,
                          "#8e0152"
                        ],
                        [
                          0.1,
                          "#c51b7d"
                        ],
                        [
                          0.2,
                          "#de77ae"
                        ],
                        [
                          0.3,
                          "#f1b6da"
                        ],
                        [
                          0.4,
                          "#fde0ef"
                        ],
                        [
                          0.5,
                          "#f7f7f7"
                        ],
                        [
                          0.6,
                          "#e6f5d0"
                        ],
                        [
                          0.7,
                          "#b8e186"
                        ],
                        [
                          0.8,
                          "#7fbc41"
                        ],
                        [
                          0.9,
                          "#4d9221"
                        ],
                        [
                          1,
                          "#276419"
                        ]
                      ],
                      "sequential": [
                        [
                          0,
                          "#0d0887"
                        ],
                        [
                          0.1111111111111111,
                          "#46039f"
                        ],
                        [
                          0.2222222222222222,
                          "#7201a8"
                        ],
                        [
                          0.3333333333333333,
                          "#9c179e"
                        ],
                        [
                          0.4444444444444444,
                          "#bd3786"
                        ],
                        [
                          0.5555555555555556,
                          "#d8576b"
                        ],
                        [
                          0.6666666666666666,
                          "#ed7953"
                        ],
                        [
                          0.7777777777777778,
                          "#fb9f3a"
                        ],
                        [
                          0.8888888888888888,
                          "#fdca26"
                        ],
                        [
                          1,
                          "#f0f921"
                        ]
                      ],
                      "sequentialminus": [
                        [
                          0,
                          "#0d0887"
                        ],
                        [
                          0.1111111111111111,
                          "#46039f"
                        ],
                        [
                          0.2222222222222222,
                          "#7201a8"
                        ],
                        [
                          0.3333333333333333,
                          "#9c179e"
                        ],
                        [
                          0.4444444444444444,
                          "#bd3786"
                        ],
                        [
                          0.5555555555555556,
                          "#d8576b"
                        ],
                        [
                          0.6666666666666666,
                          "#ed7953"
                        ],
                        [
                          0.7777777777777778,
                          "#fb9f3a"
                        ],
                        [
                          0.8888888888888888,
                          "#fdca26"
                        ],
                        [
                          1,
                          "#f0f921"
                        ]
                      ]
                    },
                    "colorway": [
                      "#636efa",
                      "#EF553B",
                      "#00cc96",
                      "#ab63fa",
                      "#FFA15A",
                      "#19d3f3",
                      "#FF6692",
                      "#B6E880",
                      "#FF97FF",
                      "#FECB52"
                    ],
                    "font": {
                      "color": "#2a3f5f"
                    },
                    "geo": {
                      "bgcolor": "white",
                      "lakecolor": "white",
                      "landcolor": "#E5ECF6",
                      "showlakes": true,
                      "showland": true,
                      "subunitcolor": "white"
                    },
                    "hoverlabel": {
                      "align": "left"
                    },
                    "hovermode": "closest",
                    "mapbox": {
                      "style": "light"
                    },
                    "paper_bgcolor": "white",
                    "plot_bgcolor": "#E5ECF6",
                    "polar": {
                      "angularaxis": {
                        "gridcolor": "white",
                        "linecolor": "white",
                        "ticks": ""
                      },
                      "bgcolor": "#E5ECF6",
                      "radialaxis": {
                        "gridcolor": "white",
                        "linecolor": "white",
                        "ticks": ""
                      }
                    },
                    "scene": {
                      "xaxis": {
                        "backgroundcolor": "#E5ECF6",
                        "gridcolor": "white",
                        "gridwidth": 2,
                        "linecolor": "white",
                        "showbackground": true,
                        "ticks": "",
                        "zerolinecolor": "white"
                      },
                      "yaxis": {
                        "backgroundcolor": "#E5ECF6",
                        "gridcolor": "white",
                        "gridwidth": 2,
                        "linecolor": "white",
                        "showbackground": true,
                        "ticks": "",
                        "zerolinecolor": "white"
                      },
                      "zaxis": {
                        "backgroundcolor": "#E5ECF6",
                        "gridcolor": "white",
                        "gridwidth": 2,
                        "linecolor": "white",
                        "showbackground": true,
                        "ticks": "",
                        "zerolinecolor": "white"
                      }
                    },
                    "shapedefaults": {
                      "line": {
                        "color": "#2a3f5f"
                      }
                    },
                    "ternary": {
                      "aaxis": {
                        "gridcolor": "white",
                        "linecolor": "white",
                        "ticks": ""
                      },
                      "baxis": {
                        "gridcolor": "white",
                        "linecolor": "white",
                        "ticks": ""
                      },
                      "bgcolor": "#E5ECF6",
                      "caxis": {
                        "gridcolor": "white",
                        "linecolor": "white",
                        "ticks": ""
                      }
                    },
                    "title": {
                      "x": 0.05
                    },
                    "xaxis": {
                      "automargin": true,
                      "gridcolor": "white",
                      "linecolor": "white",
                      "ticks": "",
                      "title": {
                        "standoff": 15
                      },
                      "zerolinecolor": "white",
                      "zerolinewidth": 2
                    },
                    "yaxis": {
                      "automargin": true,
                      "gridcolor": "white",
                      "linecolor": "white",
                      "ticks": "",
                      "title": {
                        "standoff": 15
                      },
                      "zerolinecolor": "white",
                      "zerolinewidth": 2
                    }
                  }
                },
                "title": {
                  "text": "GLM coefficients importance"
                },
                "xaxis": {
                  "title": {
                    "text": "Coeficientes normalizados"
                  }
                },
                "yaxis": {
                  "title": {
                    "text": "Variables"
                  }
                }
              }
            }
          },
          "metadata": {},
          "output_type": "display_data"
        }
      ],
      "source": [
        "lmc = clf_log.coef_\n",
        "\n",
        "# Plot for LM\n",
        "objects = X.columns\n",
        "y_pos = np.arange(len(objects))\n",
        "coefficients = lmc[0]\n",
        "\n",
        "\n",
        "fig = go.Figure()\n",
        "\n",
        "# Agrego las trazas necesarias\n",
        "fig.add_trace(\n",
        "    go.Bar(\n",
        "        x = coefficients,\n",
        "        y = objects,\n",
        "        name = \"Coeficientes\",\n",
        "        orientation='h'\n",
        "    )\n",
        ")\n",
        "\n",
        "# Actualizo el diseño\n",
        "fig.update_layout(title = \"GLM coefficients importance\", xaxis_title = \"Coeficientes normalizados\", yaxis_title = \"Variables\")\n",
        "\n",
        "# Muestro la figura\n",
        "fig.show()\n",
        "\n",
        "plt.show()"
      ]
    },
    {
      "cell_type": "markdown",
      "metadata": {},
      "source": [
        "La variable que tiene más fuerza en predecir es la que tiene el coeficiente más grande, en este caso cal_balance, seguido de calories y por último fat percentage. Si quieres estar sano, que es lo que indica esta variable, lo mejor es que te centres en el balance calórico más que en entrenar más o comer menos. Es una combinación de ambas."
      ]
    },
    {
      "cell_type": "markdown",
      "metadata": {
        "id": "dnuHNl1HU1sV"
      },
      "source": [
        "## Ejercicio 5 — Conclusión (1 punto)\n",
        "\n",
        "En un máximo de 300 palabras, resume:\n",
        "\n",
        "*   Qué hábitos parecen tener mayor relación con el estado de salud.\n",
        "\n",
        "*   Qué modelo fue más eficaz y por qué.\n",
        "\n",
        "*   Qué podrías mejorar si tuvieras más tiempo o datos.\n",
        "\n"
      ]
    },
    {
      "cell_type": "markdown",
      "metadata": {},
      "source": [
        "Los mejores hábitos que contrinuyen a una buena salud es el balance calórico. Hay una expresión en inglés \"You can't outrun a bad diet\", y debería haber otra que fuese igual pero de nutrición sin estar activo. La combinación de ambas es clave para estar sano, no sólo una u otra. Hay que hacer un balance de lo que entra vs lo que sale.\n",
        "\n",
        "El modelo más eficaz que he desarrollado en este examen es el random forest para hacer una regresión de el IMC, en cuanto a clasificación no ha explicado muy bien, teniendo sólo una precisión del 62%.\n",
        "\n",
        "Si tuviese más tiempo:\n",
        "- Terminaría el examen.\n",
        "- Refinaría los modelos, especialmente con algún tipo de regresión que no fuese logística (igual kMeans?)"
      ]
    }
  ],
  "metadata": {
    "colab": {
      "provenance": []
    },
    "kernelspec": {
      "display_name": "Python 3",
      "name": "python3"
    },
    "language_info": {
      "codemirror_mode": {
        "name": "ipython",
        "version": 3
      },
      "file_extension": ".py",
      "mimetype": "text/x-python",
      "name": "python",
      "nbconvert_exporter": "python",
      "pygments_lexer": "ipython3",
      "version": "3.11.4"
    }
  },
  "nbformat": 4,
  "nbformat_minor": 0
}
